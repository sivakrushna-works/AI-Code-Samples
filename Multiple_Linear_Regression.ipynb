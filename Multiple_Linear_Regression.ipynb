{
  "nbformat": 4,
  "nbformat_minor": 0,
  "metadata": {
    "colab": {
      "provenance": [],
      "authorship_tag": "ABX9TyMfeCR7kJjwTsjRLosB5PHr",
      "include_colab_link": true
    },
    "kernelspec": {
      "name": "python3",
      "display_name": "Python 3"
    },
    "language_info": {
      "name": "python"
    }
  },
  "cells": [
    {
      "cell_type": "markdown",
      "metadata": {
        "id": "view-in-github",
        "colab_type": "text"
      },
      "source": [
        "<a href=\"https://colab.research.google.com/github/sivakrushna-works/AI-Code-Samples/blob/main/Multiple_Linear_Regression.ipynb\" target=\"_parent\"><img src=\"https://colab.research.google.com/assets/colab-badge.svg\" alt=\"Open In Colab\"/></a>"
      ]
    },
    {
      "cell_type": "markdown",
      "source": [],
      "metadata": {
        "id": "h1_1BD3JsxPS"
      }
    },
    {
      "cell_type": "markdown",
      "source": [
        "# This is the example for mulitple linear regression\n",
        "here 2 independet features and one dependent feature\n",
        "\n",
        "Data set:\n",
        "\n",
        "https://github.com/sivakrushna-works/Complete-Data-Science-With-Machine-Learning-And-NLP-2024/blob/main/3-Complete%20Linear%20Regression/Practicals/economic_index.csv\n",
        "\n"
      ],
      "metadata": {
        "id": "H85Hi6sysy1n"
      }
    }
  ]
}